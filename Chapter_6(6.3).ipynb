{
 "cells": [
  {
   "cell_type": "markdown",
   "id": "319066f1",
   "metadata": {},
   "source": [
    "### Packages &#x1F4DA;"
   ]
  },
  {
   "cell_type": "code",
   "execution_count": null,
   "id": "581287bb",
   "metadata": {},
   "outputs": [],
   "source": [
    "import pandas as pd\n",
    "import numpy as np\n",
    "import seaborn as sns\n",
    "sns.set_theme()\n",
    "import pydlm\n",
    "import matplotlib.pyplot as plt\n",
    "from sklearn.decomposition import PCA\n",
    "from sklearn.preprocessing import StandardScaler\n",
    "from prettytable import PrettyTable\n",
    "import IPython\n",
    "import librosa\n",
    "import librosa.display\n",
    "from sklearn.metrics import mean_squared_error"
   ]
  },
  {
   "cell_type": "code",
   "execution_count": null,
   "id": "6d5a8f39",
   "metadata": {},
   "outputs": [],
   "source": [
    "df = pd.read_csv(r'C:\\Users\\karol\\OneDrive\\Área de Trabalho\\Mestrado\\Códigos\\base_completa.csv', sep=';')"
   ]
  },
  {
   "cell_type": "markdown",
   "id": "f9670454",
   "metadata": {},
   "source": [
    "### music of index 1,430 &#x1F3B6;\t"
   ]
  },
  {
   "cell_type": "code",
   "execution_count": null,
   "id": "5503ebaf",
   "metadata": {},
   "outputs": [],
   "source": [
    "df_2 = df[df['file'] == 1430]\n",
    "features_2 = df_2.iloc[:, 1:-4]\n",
    "\n",
    "PCA_2 = PCA(n_components = 1, random_state=42)\n",
    "features_2_PCA = PCA_2.fit_transform(features_2)\n",
    "features_2_PCA = np.hstack((features_2_PCA, np.ones((58, 1))))\n",
    "\n",
    "a_2 = df_2['Arousal'].values\n",
    "v_2 = df_2['Valence'].values"
   ]
  },
  {
   "cell_type": "code",
   "execution_count": null,
   "id": "dce17b9d",
   "metadata": {},
   "outputs": [],
   "source": [
    "modelo_dinamico_a2 = pydlm.dlm(a_2) + pydlm.dynamic(features = features_2_PCA, name = 'dynamic', discount = 0.99) \n",
    "modelo_dinamico_v2 = pydlm.dlm(v_2) + pydlm.dynamic(features= features_2_PCA, name='dynamics', discount=0.99)\n",
    "modelo_dinamico_a2.fit()\n",
    "modelo_dinamico_v2.fit()"
   ]
  },
  {
   "cell_type": "code",
   "execution_count": null,
   "id": "4de0edb6",
   "metadata": {},
   "outputs": [],
   "source": [
    "# Filtrar os resultados\n",
    "modelo_dinamico_a2.fitForwardFilter()\n",
    "\n",
    "filtered_series = modelo_dinamico_a2.getMean(filterType='forwardFilter')  # (filtered)\n",
    "smoothed_series = modelo_dinamico_a2.getMean(filterType='backwardSmoother')  # (smoothed)\n",
    "\n",
    "# Previsão \"one-step ahead\" para todos os pontos\n",
    "one_step_predictions = []\n",
    "for i in range(len(a_2) - 1):  # Prever até o penúltimo ponto\n",
    "    prediction = modelo_dinamico_a2.predictN(date=i, N=1)[0][0]  # Extrair o valor previsto como escalar\n",
    "    one_step_predictions.append(prediction)\n",
    "\n",
    "# Adicionando NaN no último valor para manter o tamanho igual\n",
    "one_step_predictions.append(float('nan'))\n",
    "\n",
    "# Extraindo os dados reais para comparação\n",
    "time_points = range(len(a_2))\n",
    "observed_data = a_2\n",
    "\n",
    "\n",
    "plt.figure(figsize=(10, 6)) \n",
    "plt.plot(time_points, observed_data, label='Observed', color='black', linestyle='-')\n",
    "plt.plot(time_points, filtered_series, label='Filtered Series', color='blue',linestyle=':')\n",
    "plt.plot(time_points, smoothed_series, label='Smoothed Series', color='red', linestyle='-.')\n",
    "plt.xticks(rotation=45)\n",
    "plt.tight_layout() \n",
    "plt.legend(fontsize=17)\n",
    "plt.xlabel('Time(s)', fontsize=20)\n",
    "plt.ylabel('Values', fontsize=20)\n",
    "plt.ylim(-0.075,0.02)\n",
    "plt.xticks(fontsize=20)\n",
    "plt.yticks(fontsize=20)\n",
    "#plt.savefig(\"Arousal.pdf\", format = \"pdf\", bbox_inches=\"tight\")\n",
    "plt.show()"
   ]
  },
  {
   "cell_type": "code",
   "execution_count": null,
   "id": "2036207e",
   "metadata": {},
   "outputs": [],
   "source": [
    "# Filtrar os resultados\n",
    "modelo_dinamico_v2.fitForwardFilter()\n",
    "\n",
    "filtered_series = modelo_dinamico_v2.getMean(filterType='forwardFilter')  # (filtered)\n",
    "smoothed_series = modelo_dinamico_v2.getMean(filterType='backwardSmoother')  # (smoothed)\n",
    "\n",
    "# Previsão \"one-step ahead\" para todos os pontos\n",
    "one_step_predictions = []\n",
    "for i in range(len(v_2) - 1):  # Prever até o penúltimo ponto\n",
    "    prediction = modelo_dinamico_v2.predictN(date=i, N=1)[0][0]  # Extrair o valor previsto como escalar\n",
    "    one_step_predictions.append(prediction)\n",
    "\n",
    "# Adicionando NaN no último valor para manter o tamanho igual\n",
    "one_step_predictions.append(float('nan'))\n",
    "\n",
    "# Extraindo os dados reais para comparação\n",
    "time_points = range(len(v_2))\n",
    "observed_data = v_2\n",
    "\n",
    "plt.figure(figsize=(10, 6))\n",
    "plt.plot(time_points, observed_data, label='Observed', color='black', linestyle='-')\n",
    "plt.plot(time_points, filtered_series, label='Filtered Series', color='blue', linestyle=':')\n",
    "plt.plot(time_points, smoothed_series, label='Smoothed Series', color='red', linestyle='-.')\n",
    "plt.xticks(rotation=45) \n",
    "plt.tight_layout()  \n",
    "plt.legend(fontsize=17)  \n",
    "plt.xlabel('Time(s)', fontsize=20)\n",
    "plt.ylabel('Values', fontsize=20)\n",
    "plt.xticks(fontsize=20)  \n",
    "plt.yticks(fontsize=20) \n",
    "#plt.savefig(\"Valence.pdf\", format = \"pdf\", bbox_inches=\"tight\")\n",
    "plt.show()"
   ]
  },
  {
   "cell_type": "markdown",
   "id": "55b96d18",
   "metadata": {},
   "source": [
    "### Metrics &#x1F523;\t"
   ]
  },
  {
   "cell_type": "code",
   "execution_count": null,
   "id": "c3746f5a",
   "metadata": {},
   "outputs": [],
   "source": [
    "inter = 0\n",
    "most_important_name = []\n",
    "least_important_name = []\n",
    "most_important_value = []\n",
    "least_important_value = []\n",
    "variance_ratio = []\n",
    "top_n = 13\n",
    "salient = pd.DataFrame(columns=[f'Feature_{i+1}' for i in range(top_n)] + [f'Valor_{i+1}' for i in range(top_n)])\n",
    "\n",
    "filtered_series_a = []  # Séries filtradas para Arousal\n",
    "smoothed_series_a = []  # Séries suavizadas para Arousal\n",
    "filtered_series_v = []  # Séries filtradas para Valence\n",
    "smoothed_series_v = []  # Séries suavizadas para Valence\n",
    "\n",
    "\n",
    "for i in df['file'].unique():\n",
    "    inter +=1\n",
    "    df_i = df[df['file'] == i] # cria um dataframe para cada música\n",
    "    features_i = df_i.iloc[:, 1:-4] # retira columna = [Frametime, Arousal, Valence, File]\n",
    "    PCA_i = PCA(n_components = 1, random_state=42) # cria um PCA\n",
    "    features_i_PCA = PCA_i.fit_transform(features_i) # treina a partir das features\n",
    "    features_i_PCA = np.hstack((features_i_PCA, np.ones((len(df_i), 1)))) # adiciona um ''interceptor''\n",
    "    loadings = PCA_i.components_[0] # pega os coefs da primeira componente\n",
    "    sorted_indices = np.argsort(np.abs(loadings))[::-1]  # Ordena em ordem decrescente de magnitude\n",
    "    top_features_indices = sorted_indices[:top_n]  # Pega os índices das top features\n",
    "    top_features_names = df_i.columns[top_features_indices] # pega os nomes\n",
    "    top_features_values = loadings[top_features_indices] # pega os valores\n",
    "    row = list(top_features_names) + list(top_features_values)\n",
    "    salient.loc[i] = row\n",
    "\n",
    "    a_i = df_i['Arousal'].values # arousal\n",
    "    v_i = df_i['Valence'].values # valence\n",
    "    modelo_dinamico_ai = pydlm.dlm(a_i) + pydlm.dynamic(features = features_i_PCA, name = 'dynamic', discount = 0.99) \n",
    "    modelo_dinamico_vi = pydlm.dlm(v_i) + pydlm.dynamic(features= features_i_PCA, name='dynamics', discount=0.99)\n",
    "    modelo_dinamico_ai.fit()\n",
    "    modelo_dinamico_vi.fit()\n",
    "\n",
    "    filtered_series_ai = modelo_dinamico_ai.getMean(filterType='forwardFilter')  # Séries filtradas (filtered)\n",
    "    smoothed_series_ai = modelo_dinamico_ai.getMean(filterType='backwardSmoother')  # Séries suavizadas (smoothed)\n",
    "    filtered_series_vi = modelo_dinamico_ai.getMean(filterType='forwardFilter')  # Séries filtradas (filtered)\n",
    "    smoothed_series_vi = modelo_dinamico_ai.getMean(filterType='backwardSmoother')  # Séries suavizadas (smoothed)\n",
    "    \n",
    "    # Calculando MSE para a série filtrada\n",
    "    filtered_series_ai = mean_squared_error(a_i, filtered_series_ai)\n",
    "    filtered_series_a.append(filtered_series_ai)\n",
    "    filtered_series_vi = mean_squared_error(v_i, filtered_series_vi)\n",
    "    filtered_series_v.append(filtered_series_vi)\n",
    "    \n",
    "    # Calculando MSE para a série suavizada\n",
    "    smoothed_series_ai = mean_squared_error(a_i, smoothed_series_ai)\n",
    "    smoothed_series_a.append(smoothed_series_ai)\n",
    "    smoothed_series_vi = mean_squared_error(v_i, smoothed_series_vi)\n",
    "    smoothed_series_v.append(smoothed_series_vi)\n",
    "    \n",
    "\n",
    "    #mse_ai = modelo_dinamico_ai.getMSE()\n",
    "    #mse_a.append(mse_ai)\n",
    "    #mse_vi = modelo_dinamico_vi.getMSE()\n",
    "    #mse_v.append(mse_vi)    \n",
    "\n",
    "    most_importanti = np.abs(pd.DataFrame(PCA_i.components_,columns=features_i.columns))\n",
    "    most_important_name.append(most_importanti.max().idxmax())\n",
    "    most_important_value.append(most_importanti.max(axis=1))\n",
    "#    least_importanti = pd.DataFrame(PCA_i.components_,columns=features_i.columns) \n",
    "    least_important_name.append(most_importanti.min().idxmin())\n",
    "    least_important_value.append(most_importanti.min(axis=1))\n",
    "    variance_ratio.append(PCA_i.explained_variance_ratio_)"
   ]
  },
  {
   "cell_type": "code",
   "execution_count": null,
   "id": "88d7c3eb",
   "metadata": {},
   "outputs": [],
   "source": [
    "filtered_series_a = pd.Series(filtered_series_a)\n",
    "filtered_series_v = pd.Series(filtered_series_v)\n",
    "smoothed_series_a = pd.Series(smoothed_series_a)\n",
    "smoothed_series_v = pd.Series(smoothed_series_v)\n",
    "\n",
    "rmse_filtered_a = np.sqrt(filtered_series_a.mean()).round(3)\n",
    "rmse_filtered_v = np.sqrt(filtered_series_v.mean()).round(3)\n",
    "rmse_smoothed_a = np.sqrt(smoothed_series_a.mean()).round(3)\n",
    "rmse_smoothed_v = np.sqrt(smoothed_series_v.mean()).round(3)\n",
    "\n",
    "table = PrettyTable()\n",
    "table.field_names = [\"Serie\", \"Arousal\", \"Valence\"]\n",
    "table.add_row([\"Filtered\", rmse_filtered_a, rmse_filtered_v])\n",
    "table.add_row([\"Smoothed\", rmse_smoothed_a, rmse_smoothed_v])\n",
    "\n",
    "print(table)"
   ]
  },
  {
   "cell_type": "markdown",
   "id": "6dfe2017",
   "metadata": {},
   "source": [
    "### PCA &#x1F4C9;\t\t"
   ]
  },
  {
   "cell_type": "code",
   "execution_count": null,
   "id": "f59577fd",
   "metadata": {},
   "outputs": [],
   "source": [
    "important_np = np.array(most_important_value)\n",
    "\n",
    "# Calcular a porcentagem de músicas\n",
    "porcentagem = np.mean(important_np >= 0.80) * 100\n",
    "\n",
    "print(f\"A porcentagem de músicas onde uma única componente explica mais de 80% da variabilidade é: {porcentagem:.2f}%\")"
   ]
  },
  {
   "cell_type": "code",
   "execution_count": null,
   "id": "b6fb9182",
   "metadata": {},
   "outputs": [],
   "source": [
    "threshold = 0.95\n",
    "\n",
    "# Somar as colunas Valor_1, Valor_2 e Valor_3\n",
    "sum_values = salient['Valor_1'] + salient['Valor_2'] + salient['Valor_3']\n",
    "\n",
    "# Contar quantas músicas têm a soma de Valor_1 + Valor_2 + Valor_3 maior ou igual a 95%\n",
    "count_above_threshold = salient[sum_values >= threshold].shape[0]\n",
    "\n",
    "# Calcular o total de músicas (linhas no dataframe)\n",
    "total_musics = salient.shape[0]\n",
    "\n",
    "# Calcular a porcentagem de músicas que atendem a condição\n",
    "percentage_above_threshold = (count_above_threshold / total_musics) * 100\n",
    "\n",
    "print(f\"Porcentagem de músicas com Valor_1 + Valor_2 + Valor_3 >= 95%: {percentage_above_threshold:.2f}%\")"
   ]
  }
 ],
 "metadata": {
  "kernelspec": {
   "display_name": "Python 3",
   "language": "python",
   "name": "python3"
  },
  "language_info": {
   "codemirror_mode": {
    "name": "ipython",
    "version": 3
   },
   "file_extension": ".py",
   "mimetype": "text/x-python",
   "name": "python",
   "nbconvert_exporter": "python",
   "pygments_lexer": "ipython3",
   "version": "3.11.9"
  }
 },
 "nbformat": 4,
 "nbformat_minor": 5
}
