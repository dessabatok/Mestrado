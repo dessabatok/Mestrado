{
 "cells": [
  {
   "cell_type": "markdown",
   "id": "998421ca",
   "metadata": {},
   "source": [
    "### Packages &#x1F4DA;"
   ]
  },
  {
   "cell_type": "code",
   "execution_count": 6,
   "id": "8068d204",
   "metadata": {},
   "outputs": [],
   "source": [
    "import pandas as pd\n",
    "import numpy as np\n",
    "import seaborn as sns\n",
    "sns.set_theme()\n",
    "import pickle\n",
    "import shap\n",
    "from prettytable import PrettyTable\n",
    "import matplotlib.pyplot as plt\n"
   ]
  },
  {
   "cell_type": "code",
   "execution_count": null,
   "id": "78cdb1e5",
   "metadata": {},
   "outputs": [],
   "source": [
    "from sklearn.model_selection import train_test_split, cross_validate, GridSearchCV\n",
    "from sklearn.linear_model import LinearRegression, RidgeCV, LassoCV\n",
    "from sklearn.metrics import r2_score, mean_squared_error, mean_absolute_error\n",
    "from sklearn.pipeline import make_pipeline, Pipeline\n",
    "from sklearn.preprocessing import StandardScaler\n",
    "from sklearn.tree import  DecisionTreeRegressor, plot_tree, export_text\n",
    "from sklearn.ensemble import RandomForestRegressor as RF"
   ]
  },
  {
   "cell_type": "code",
   "execution_count": 8,
   "id": "be159c51",
   "metadata": {},
   "outputs": [],
   "source": [
    "df = pd.read_csv(r'C:\\Users\\karol\\OneDrive\\Área de Trabalho\\Mestrado\\Códigos\\base_completa.csv', sep=';')"
   ]
  },
  {
   "cell_type": "code",
   "execution_count": 11,
   "id": "d90e8585",
   "metadata": {},
   "outputs": [],
   "source": [
    "import random\n",
    "\n",
    "random.seed(42)\n",
    "ind_train_split = int(0.7*len(np.unique(df['file'])))\n",
    "ind_train_split_list = random.sample(list(np.unique(df['file'])), ind_train_split)\n",
    "ind_test_split_list = list(set(list(np.unique(df['file']))) - set(ind_train_split_list))\n",
    "\n",
    "bool_train_split_list = []\n",
    "bool_test_split_list = []\n",
    "for file in df['file'].values:\n",
    "    if file in set(ind_train_split_list):\n",
    "        bool_train_split_list.append(True)\n",
    "        bool_test_split_list.append(False)\n",
    "    else:\n",
    "        bool_train_split_list.append(False)\n",
    "        bool_test_split_list.append(True)\n",
    "\n",
    "X_train = df[bool_train_split_list].drop(columns=['frameTime', 'Arousal', 'Valence'])\n",
    "X_test = df[bool_test_split_list].drop(columns=['frameTime', 'Arousal', 'Valence'])\n",
    "\n",
    "y_train_arousal = df[bool_train_split_list]['Arousal']\n",
    "y_test_arousal = df[bool_test_split_list]['Arousal']\n",
    "\n",
    "y_train_valence = df[bool_train_split_list]['Valence']\n",
    "y_test_valence = df[bool_test_split_list]['Valence']"
   ]
  },
  {
   "cell_type": "markdown",
   "id": "eb640b22",
   "metadata": {},
   "source": [
    "### Models and metrics &#x1F52E;\t"
   ]
  },
  {
   "cell_type": "markdown",
   "id": "fe000238",
   "metadata": {},
   "source": [
    "#### Linear Regression &#x1F4CF;\t"
   ]
  },
  {
   "cell_type": "code",
   "execution_count": null,
   "id": "8d7b4639",
   "metadata": {},
   "outputs": [],
   "source": [
    "LR_a = Pipeline(steps = [('Scaler', StandardScaler()),\n",
    "                ('LinearRegression', LinearRegression())])\n",
    "\n",
    "LR_v = Pipeline(steps = [('Scaler', StandardScaler()),\n",
    "                ('LinearRegression', LinearRegression())])\n",
    "\n",
    "LR_a.fit(X_train, y_train_arousal)\n",
    "LR_v.fit(X_train, y_train_valence)\n",
    "\n",
    "tabela_LR = PrettyTable()\n",
    "tabela_LR.field_names = [\"Métrica\", \"Arousal\", \"Valence\"]\n",
    "\n",
    "tabela_LR.add_row([\"MSE\", round(mean_squared_error(y_test_arousal, LR_a.predict(X_test)), 4),\n",
    "                        round(mean_squared_error(y_test_valence, LR_v.predict(X_test)), 4)])\n",
    "\n",
    "tabela_LR.add_row([\"MAE\", round(mean_absolute_error(y_test_arousal, LR_a.predict(X_test)), 4),\n",
    "                        round(mean_absolute_error(y_test_valence, LR_v.predict(X_test)), 4)])\n",
    "\n",
    "tabela_LR.add_row([\"R²\", round(r2_score(y_test_arousal, LR_a.predict(X_test)), 4),\n",
    "                        round(r2_score(y_test_valence, LR_v.predict(X_test)), 4)])\n",
    "\n",
    "print(tabela_LR)"
   ]
  },
  {
   "cell_type": "markdown",
   "id": "512fa916",
   "metadata": {},
   "source": [
    "#### Ridge Regression &#x1F535;\t"
   ]
  },
  {
   "cell_type": "code",
   "execution_count": null,
   "id": "28d62aa9",
   "metadata": {},
   "outputs": [],
   "source": [
    "alphas = np.logspace(-4, 4, 100)\n",
    "\n",
    "Ridge_a = Pipeline([\n",
    "    ('Scaler', StandardScaler()),\n",
    "    ('RidgeCV', RidgeCV(alphas=alphas, store_cv_values=True))\n",
    "])\n",
    "\n",
    "Ridge_v = Pipeline([\n",
    "    ('Scaler', StandardScaler()),\n",
    "    ('RidgeCV', RidgeCV(alphas=alphas, store_cv_values=True))\n",
    "])\n",
    "\n",
    "Ridge_a.fit(X_train, y_train_arousal)\n",
    "Ridge_v.fit(X_train, y_train_valence)\n",
    "\n",
    "tabela_Ridge = PrettyTable()\n",
    "tabela_Ridge.field_names = [\"Métrica\", \"Arousal\", \"Valence\"]\n",
    "\n",
    "tabela_Ridge.add_row([\"MSE\", round(mean_squared_error(y_test_arousal, Ridge_a.predict(X_test)), 4),\n",
    "                        round(mean_squared_error(y_test_valence, Ridge_v.predict(X_test)), 4)])\n",
    "\n",
    "tabela_Ridge.add_row([\"MAE\", round(mean_absolute_error(y_test_arousal, Ridge_a.predict(X_test)), 4),\n",
    "                        round(mean_absolute_error(y_test_valence, Ridge_v.predict(X_test)), 4)])\n",
    "\n",
    "tabela_Ridge.add_row([\"R²\", round(r2_score(y_test_arousal, Ridge_a.predict(X_test)), 4),\n",
    "                        round(r2_score(y_test_valence, Ridge_v.predict(X_test)), 4)])\n",
    "\n",
    "print(tabela_Ridge)\n",
    "print(\"Melhor alpha para Arousal:\", Ridge_a.named_steps['RidgeCV'].alpha_)\n",
    "print(\"Melhor alpha para Valence:\", Ridge_v.named_steps['RidgeCV'].alpha_)"
   ]
  },
  {
   "cell_type": "markdown",
   "id": "06794254",
   "metadata": {},
   "source": [
    "#### Lasso Regression &#x1F537;\t"
   ]
  },
  {
   "cell_type": "code",
   "execution_count": null,
   "id": "4715a338",
   "metadata": {},
   "outputs": [],
   "source": [
    "alphas = np.logspace(-100, -75, 100)\n",
    "\n",
    "Lasso_a = Pipeline([\n",
    "    ('Scaler', StandardScaler()),\n",
    "    ('LassoCV', LassoCV(alphas=alphas, cv=5, max_iter=10000))\n",
    "])\n",
    "\n",
    "Lasso_v = Pipeline([\n",
    "    ('Scaler', StandardScaler()),\n",
    "    ('LassoCV', LassoCV(alphas=alphas, cv=5, max_iter=10000))\n",
    "])\n",
    "\n",
    "Lasso_a.fit(X_train, y_train_arousal)\n",
    "Lasso_v.fit(X_train, y_train_valence)\n",
    "\n",
    "tabela_Lasso = PrettyTable()\n",
    "tabela_Lasso.field_names = [\"Métrica\", \"Arousal\", \"Valence\"]\n",
    "\n",
    "tabela_Lasso.add_row([\"MSE\", round(mean_squared_error(y_test_arousal, Lasso_a.predict(X_test)), 4),\n",
    "                        round(mean_squared_error(y_test_valence, Lasso_v.predict(X_test)), 4)])\n",
    "\n",
    "tabela_Lasso.add_row([\"MAE\", round(mean_absolute_error(y_test_arousal, Lasso_a.predict(X_test)), 4),\n",
    "                        round(mean_absolute_error(y_test_valence, Lasso_v.predict(X_test)), 4)])\n",
    "\n",
    "tabela_Lasso.add_row([\"R²\", round(r2_score(y_test_arousal, Lasso_a.predict(X_test)), 4),\n",
    "                        round(r2_score(y_test_valence, Lasso_v.predict(X_test)), 4)])\n",
    "\n",
    "# Exibir resultados\n",
    "print(tabela_Lasso)\n",
    "print(\"Melhor alpha para Arousal:\", Lasso_a.named_steps['LassoCV'].alpha_)\n",
    "print(\"Melhor alpha para Valence:\", Lasso_v.named_steps['LassoCV'].alpha_)"
   ]
  },
  {
   "cell_type": "markdown",
   "id": "20517b6e",
   "metadata": {},
   "source": [
    "#### Tree Regression &#x1F332;\t"
   ]
  },
  {
   "cell_type": "code",
   "execution_count": null,
   "id": "b86fe030",
   "metadata": {},
   "outputs": [],
   "source": [
    "Tree_a = Pipeline([\n",
    "    ('Scaler', StandardScaler()),\n",
    "    ('Tree', DecisionTreeRegressor(random_state=42, max_depth=10))\n",
    "])\n",
    "\n",
    "Tree_v = Pipeline([\n",
    "    ('Scaler', StandardScaler()),\n",
    "    ('Tree', DecisionTreeRegressor(random_state=42, max_depth=10))\n",
    "])\n",
    "\n",
    "Tree_a.fit(X_train, y_train_arousal)\n",
    "Tree_v.fit(X_train, y_train_valence)\n",
    "\n",
    "tabela_Tree = PrettyTable()\n",
    "tabela_Tree.field_names = [\"Métrica\", \"Arousal\", \"Valence\"]\n",
    "\n",
    "tabela_Tree.add_row([\"MSE\", round(mean_squared_error(y_test_arousal, Tree_a.predict(X_test)), 4),\n",
    "                                round(mean_squared_error(y_test_valence, Tree_v.predict(X_test)), 4)])\n",
    "\n",
    "tabela_Tree.add_row([\"MAE\", round(mean_absolute_error(y_test_arousal, Tree_a.predict(X_test)), 4),\n",
    "                                round(mean_absolute_error(y_test_valence, Tree_v.predict(X_test)), 4)])\n",
    "\n",
    "tabela_Tree.add_row([\"R²\", round(r2_score(y_test_arousal, Tree_a.predict(X_test)), 4),\n",
    "                                round(r2_score(y_test_valence, Tree_v.predict(X_test)), 4)])\n",
    "\n",
    "print(tabela_Tree)"
   ]
  },
  {
   "cell_type": "markdown",
   "id": "4490d87b",
   "metadata": {},
   "source": [
    "#### Random Forest &#x1F332;&#x1F332;&#x1F332;\t"
   ]
  },
  {
   "cell_type": "markdown",
   "id": "7555233d",
   "metadata": {},
   "source": [
    "##### Arousal"
   ]
  },
  {
   "cell_type": "code",
   "execution_count": null,
   "id": "619adc7f",
   "metadata": {},
   "outputs": [],
   "source": [
    "RF_a_full = Pipeline(steps = [('Scaler', StandardScaler()),\n",
    "    ('rf_a', RF(n_estimators = 1000, min_samples_leaf = 5, n_jobs = -1, verbose = 5, max_features=0.8, random_state=42))])\n",
    "\n",
    "RF_a_full.fit(X_train, y_train_arousal)"
   ]
  },
  {
   "cell_type": "code",
   "execution_count": null,
   "id": "9bfdc0a1",
   "metadata": {},
   "outputs": [],
   "source": [
    "importances_a = RF_a_full.best_estimator_['rf_a'].feature_importances_\n",
    "top10_idx_a = np.argsort(importances_a)[-10:]\n",
    "X_train_a_top10 = X_train.iloc[:, top10_idx_a]\n",
    "X_test_a_top10 = X_test.iloc[:, top10_idx_a]\n",
    "\n",
    "RF_a_top10 = Pipeline(steps = [('Scaler', StandardScaler()),\n",
    "    ('rf_a10', RF(n_estimators = 1000, min_samples_leaf = 5, n_jobs = -1, verbose = 5, max_features=0.8, random_state=42))])\n",
    "\n",
    "\n",
    "RF_a_top10.fit(X_train_a_top10, y_train_arousal)"
   ]
  },
  {
   "cell_type": "code",
   "execution_count": null,
   "id": "48df9872",
   "metadata": {},
   "outputs": [],
   "source": [
    "tabela_rf_a = PrettyTable()\n",
    "tabela_rf_a.field_names = [\"Métrica\", \"Arousal (full)\", \"Arousal (top10)\"]\n",
    "\n",
    "tabela_rf_a.add_row([\n",
    "    \"MSE\",\n",
    "    round(mean_squared_error(y_test_arousal, RF_a_full.predict(X_test)), 4),\n",
    "    round(mean_squared_error(y_test_arousal, RF_a_top10(X_test_a_top10)), 4)\n",
    "])\n",
    "\n",
    "tabela_rf_a.add_row([\n",
    "    \"MAE\",\n",
    "    round(mean_absolute_error(y_test_arousal, RF_a_full.predict(X_test)), 4),\n",
    "    round(mean_absolute_error(y_test_arousal, RF_a_top10.predict(X_test_a_top10)), 4)\n",
    "])\n",
    "\n",
    "tabela_rf_a.add_row([\n",
    "    \"R²\",\n",
    "    round(r2_score(y_test_arousal, RF_a_full.predict(X_test)), 4),\n",
    "    round(r2_score(y_test_arousal, RF_a_top10.predict(X_test_a_top10)), 4)\n",
    "])\n",
    "\n",
    "print(tabela_rf_a)"
   ]
  },
  {
   "cell_type": "markdown",
   "id": "e3b3bc0c",
   "metadata": {},
   "source": [
    "##### Valence"
   ]
  },
  {
   "cell_type": "code",
   "execution_count": null,
   "id": "5baf03a4",
   "metadata": {},
   "outputs": [],
   "source": [
    "RF_v_full = Pipeline(steps = [('Scaler', StandardScaler()),\n",
    "    ('rf_v', RF(n_estimators = 1000, min_samples_leaf = 5, n_jobs = -1, verbose = 5, max_features=0.8, random_state=42))])\n",
    "\n",
    "RF_v_full.fit(X_train, y_train_valence)"
   ]
  },
  {
   "cell_type": "code",
   "execution_count": null,
   "id": "4194c9d2",
   "metadata": {},
   "outputs": [],
   "source": [
    "importances_v = RF_v_full.best_estimator_['rf_v'].feature_importances_\n",
    "top10_idx_v = np.argsort(importances_v)[-10:]\n",
    "X_train_v_top10 = X_train.iloc[:, top10_idx_v]\n",
    "X_test_v_top10 = X_test.iloc[:, top10_idx_v]\n",
    "\n",
    "RF_v_top10 = Pipeline(steps = [('Scaler', StandardScaler()),\n",
    "    ('rf_v10', RF(n_estimators = 1000, min_samples_leaf = 5, n_jobs = -1, verbose = 5, max_features=0.8, random_state=42))])\n",
    "\n",
    "\n",
    "RF_v_top10.fit(X_train_v_top10, y_train_valence)"
   ]
  },
  {
   "cell_type": "code",
   "execution_count": null,
   "id": "4f9ac9dc",
   "metadata": {},
   "outputs": [],
   "source": [
    "tabela_rf_v = PrettyTable()\n",
    "tabela_rf_v.field_names = [\"Métrica\", \"Valence (full)\", \"Valence (top10)\"]\n",
    "\n",
    "tabela_rf_v.add_row([\n",
    "    \"MSE\",\n",
    "    round(mean_squared_error(y_test_valence, RF_v_full.predict(X_test)), 4),\n",
    "    round(mean_squared_error(y_test_valence, RF_v_top10(X_test_v_top10)), 4)\n",
    "])\n",
    "\n",
    "tabela_rf_v.add_row([\n",
    "    \"MAE\",\n",
    "    round(mean_absolute_error(y_test_valence, RF_v_full.predict(X_test)), 4),\n",
    "    round(mean_absolute_error(y_test_valence, RF_v_top10.predict(X_test_v_top10)), 4)\n",
    "])\n",
    "\n",
    "tabela_rf_v.add_row([\n",
    "    \"R²\",\n",
    "    round(r2_score(y_test_valence, RF_v_full.predict(X_test)), 4),\n",
    "    round(r2_score(y_test_valence, RF_v_top10.predict(X_test_v_top10)), 4)\n",
    "])\n",
    "\n",
    "print(tabela_rf_v)"
   ]
  },
  {
   "cell_type": "markdown",
   "id": "a7c7edbc",
   "metadata": {},
   "source": [
    "##### Shapley - Arousal"
   ]
  },
  {
   "cell_type": "code",
   "execution_count": null,
   "id": "df569765",
   "metadata": {},
   "outputs": [],
   "source": [
    "shap.initjs()"
   ]
  },
  {
   "cell_type": "code",
   "execution_count": null,
   "id": "be0ef5ed",
   "metadata": {},
   "outputs": [],
   "source": [
    "# ====== FULL MODEL - AROUSAL ======\n",
    "explainer_a_full = shap.TreeExplainer(RF_a_full.best_estimator_['rf_a'])\n",
    "shap_values_a_full = explainer_a_full.shap_values(X_test)\n",
    "shap.summary_plot(shap_values_a_full, X_test)"
   ]
  },
  {
   "cell_type": "code",
   "execution_count": null,
   "id": "660e1d24",
   "metadata": {},
   "outputs": [],
   "source": [
    "# ====== TOP 10 - AROUSAL ======\n",
    "explainer_a_top10 = shap.TreeExplainer(RF_a_top10.best_estimator_['rf_a10'])\n",
    "shap_values_a_top10 = explainer_a_top10.shap_values(X_test_a_top10)\n",
    "shap.summary_plot(shap_values_a_top10, X_test_a_top10)"
   ]
  },
  {
   "cell_type": "markdown",
   "id": "365c5e1b",
   "metadata": {},
   "source": [
    "##### Shapley - Valence"
   ]
  },
  {
   "cell_type": "code",
   "execution_count": null,
   "id": "822335fe",
   "metadata": {},
   "outputs": [],
   "source": [
    "shap.initjs()"
   ]
  },
  {
   "cell_type": "code",
   "execution_count": null,
   "id": "923240fd",
   "metadata": {},
   "outputs": [],
   "source": [
    "# ====== FULL MODEL - VALENCE ======\n",
    "explainer_v_full = shap.TreeExplainer(RF_v_full.best_estimator_['rf_v'])\n",
    "shap_values_v_full = explainer_v_full.shap_values(X_test)\n",
    "shap.summary_plot(shap_values_v_full, X_test)"
   ]
  },
  {
   "cell_type": "code",
   "execution_count": null,
   "id": "43fd34ce",
   "metadata": {},
   "outputs": [],
   "source": [
    "# ====== TOP 10 - VALENCE ======\n",
    "explainer_v_top10 = shap.TreeExplainer(RF_v_top10.best_estimator_['rf_v10'])\n",
    "shap_values_v_top10 = explainer_v_top10.shap_values(X_test_v_top10)\n",
    "shap.summary_plot(shap_values_v_top10, X_test_v_top10)"
   ]
  }
 ],
 "metadata": {
  "kernelspec": {
   "display_name": "Python 3",
   "language": "python",
   "name": "python3"
  },
  "language_info": {
   "codemirror_mode": {
    "name": "ipython",
    "version": 3
   },
   "file_extension": ".py",
   "mimetype": "text/x-python",
   "name": "python",
   "nbconvert_exporter": "python",
   "pygments_lexer": "ipython3",
   "version": "3.11.9"
  }
 },
 "nbformat": 4,
 "nbformat_minor": 5
}
